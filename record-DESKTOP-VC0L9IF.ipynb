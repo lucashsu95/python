{
 "cells": [
  {
   "cell_type": "code",
   "execution_count": 3,
   "metadata": {},
   "outputs": [
    {
     "name": "stdout",
     "output_type": "stream",
     "text": [
      "6765\n"
     ]
    }
   ],
   "source": [
    "#費波那契數列(費氏數列)(函式)\n",
    "def fib(n):\n",
    "    i = count = 0\n",
    "    # ary = []\n",
    "    j = 1\n",
    "    while count < n:\n",
    "        i , j = j , i + j\n",
    "        count += 1\n",
    "        # ary.append(i)\n",
    "    # return ary\n",
    "    return i\n",
    "result = int(input())\n",
    "print(fib(result))"
   ]
  },
  {
   "cell_type": "code",
   "execution_count": null,
   "metadata": {},
   "outputs": [],
   "source": [
    "#ASCII\n",
    "print(chr(97),ord('a'))"
   ]
  },
  {
   "cell_type": "code",
   "execution_count": 6,
   "metadata": {},
   "outputs": [
    {
     "name": "stdout",
     "output_type": "stream",
     "text": [
      "123\n"
     ]
    }
   ],
   "source": [
    "#字串反轉\n",
    "n = input()\n",
    "print(n[::-1])\n",
    "\n",
    "#數字反轉\n",
    "n = int(input())\n",
    "if n < 0 :\n",
    "    ans = -1 * int(str(abs(n))[::-1])\n",
    "else:\n",
    "    ans = int(str(abs(n))[::-1])\n",
    "\n",
    "print(ans)"
   ]
  },
  {
   "cell_type": "code",
   "execution_count": null,
   "metadata": {},
   "outputs": [],
   "source": [
    "#進位制\n",
    "x = 13\n",
    "print(f\"{x}的2進位為{bin(x)},16進位為{hex(x)}\")\n",
    "print(int(bin(x),10))\n",
    "\n",
    "#消除進位0b\n",
    "x = 13\n",
    "x = bin(x)[2:]\n",
    "print(x)\n"
   ]
  },
  {
   "cell_type": "code",
   "execution_count": null,
   "metadata": {},
   "outputs": [],
   "source": [
    "#質數\n",
    "n = int(input())\n",
    "for i in range(2,n+1):\n",
    "    if n % i == 0:\n",
    "        print('False')\n",
    "        break\n",
    "    else:\n",
    "        print('True')\n",
    "        break\n",
    "\n",
    "#質數(function)\n",
    "a = int(input(\"請輸入一個數值:\"))\n",
    "def is_prime(num):\n",
    "    for i in range(2,num//2+1):\n",
    "        if num % i == 0 :\n",
    "            return False\n",
    "    return True\n",
    "print(f'{is_prime(a)}')\n",
    "\n",
    "#判斷1到n有多少質數,並且全部印出來\n",
    "n = int(input())\n",
    "fac = []\n",
    "for i in range(1, n+1):\n",
    "    b = True\n",
    "    for j in range(2, int(i//2+1)):\n",
    "        if i % j == 0:\n",
    "            b = False\n",
    "            break\n",
    "    if b:\n",
    "        fac.append(i)\n",
    "print(f'有{len(fac)}個,{fac}')\n"
   ]
  },
  {
   "cell_type": "code",
   "execution_count": null,
   "metadata": {},
   "outputs": [],
   "source": [
    "#正整數分割\n",
    "n = 5\n",
    "def fun(num,s,t): #num 迴圈起始值3,2,1 , s:累積的字串 t:累積值\n",
    "    #print('num:'+str(num)+',s:'+str(s)+',t:'+str(t)+':')\n",
    "    t1 = 0\n",
    "    for i in range(num,0,-1):\n",
    "        t1 = t+i\n",
    "        #print('i:'+str(i)+',t:'+str(t1)+':s1:'+s1)\n",
    "        if (t1<n):\n",
    "            fun(i,s+str(i),t1)\n",
    "        if (t1==n):\n",
    "            print(s+str(i))\n",
    "              \n",
    "print(n)\n",
    "for i in range(n-1,0,-1):\n",
    "    fun(i,str(i),i)"
   ]
  },
  {
   "cell_type": "code",
   "execution_count": null,
   "metadata": {},
   "outputs": [],
   "source": [
    "#今天是今年的第幾天\n",
    "day_month = [31, 28, 31, 30, 31, 30, 31, 31, 30, 31, 30, 31]\n",
    "year,month,day = list(map(int,input().split()))\n",
    "\n",
    "if year % 4 == 0 and year % 100 != 0 or year % 400 == 0:\n",
    "    day_month[1] = 29\n",
    "\n",
    "    \n",
    "if month == 1:\n",
    "    print(day)\n",
    "else:\n",
    "    n = sum(day_month[:month-1]) + day\n",
    "    print(n)"
   ]
  },
  {
   "cell_type": "code",
   "execution_count": null,
   "metadata": {},
   "outputs": [],
   "source": [
    "#閏年 (多列版)\n",
    "year = int(input())\n",
    "if year % 4 == 0 and year % 100 != 0 or year % 400 == 0:\n",
    "    print('a leap year')\n",
    "else:\n",
    "    print('a normal year')"
   ]
  }
 ],
 "metadata": {
  "kernelspec": {
   "display_name": "Python 3.10.1 64-bit",
   "language": "python",
   "name": "python3"
  },
  "language_info": {
   "codemirror_mode": {
    "name": "ipython",
    "version": 3
   },
   "file_extension": ".py",
   "mimetype": "text/x-python",
   "name": "python",
   "nbconvert_exporter": "python",
   "pygments_lexer": "ipython3",
   "version": "3.10.1"
  },
  "orig_nbformat": 4,
  "vscode": {
   "interpreter": {
    "hash": "26de051ba29f2982a8de78e945f0abaf191376122a1563185a90213a26c5da77"
   }
  }
 },
 "nbformat": 4,
 "nbformat_minor": 2
}
