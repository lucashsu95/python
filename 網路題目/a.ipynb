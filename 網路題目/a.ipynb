{
 "cells": [
  {
   "cell_type": "code",
   "execution_count": 1,
   "metadata": {},
   "outputs": [
    {
     "name": "stdout",
     "output_type": "stream",
     "text": [
      "出發時共6隻\n",
      "賣4隻,剩2隻\n",
      "出發時共14隻\n",
      "賣8隻,剩6隻\n",
      "出發時共30隻\n",
      "賣16隻,剩14隻\n",
      "出發時共62隻\n",
      "賣32隻,剩30隻\n",
      "出發時共126隻\n",
      "賣64隻,剩62隻\n"
     ]
    }
   ],
   "source": [
    "#賣鴨子\n",
    "Ln = int(input())\n",
    "Lsum = 0\n",
    "def fun(Ln,Lduck):\n",
    "    Lsum = (Lduck + 1) * 2\n",
    "    print(f'出發時共{Lsum}隻')\n",
    "    print(f'賣{Lsum - Lduck}隻,剩{Lduck}隻')\n",
    "    Ln = Ln - 1\n",
    "    if Ln > 0 :\n",
    "        fun(Ln,Lsum)\n",
    "\n",
    "fun(Ln,2)\n",
    "     "
   ]
  },
  {
   "cell_type": "code",
   "execution_count": null,
   "metadata": {},
   "outputs": [],
   "source": [
    "def fun(Ln,Lint):\n",
    "    La = (Lint + 1) * 2\n",
    "    Ln -= 1\n",
    "    print(f'出發時共趕了{La}隻鴨子')\n",
    "    print(f'賣{La-Lint}隻,剩{Lint}隻')\n",
    "    if Lint > 0 :\n",
    "        fun(Ln,La)\n",
    "Ln = 5\n",
    "\n",
    "fun(Ln,2)"
   ]
  },
  {
   "cell_type": "code",
   "execution_count": 4,
   "metadata": {},
   "outputs": [
    {
     "name": "stdout",
     "output_type": "stream",
     "text": [
      "0號,總分162,平圴54\n",
      "1號,總分272,平圴90\n",
      "2號,總分195,平圴65\n",
      "全班國文總分164,平均54\n",
      "全班英文總分202,平均67\n",
      "全班數學總分263,平均87\n"
     ]
    }
   ],
   "source": [
    "#成績計算\n",
    "Ln = int(input())\n",
    "Lsum = [0,0,0]\n",
    "for i in range(Ln):\n",
    "    a = list(map(int,input().split()))\n",
    "    for j in range(3):\n",
    "        Lsum[j] += a[j]\n",
    "    print(f'{i+1}號同學,總分{sum(a)},平圴{(sum(a))//3}')\n",
    "print(f'全班國文總分{Lsum[0]},平均{Lsum[0]//3}')\n",
    "print(f'全班英文總分{Lsum[1]},平均{Lsum[1]//3}')\n",
    "print(f'全班數學總分{Lsum[2]},平均{Lsum[2]//3}')\n",
    "\n"
   ]
  },
  {
   "cell_type": "code",
   "execution_count": 2,
   "metadata": {},
   "outputs": [
    {
     "name": "stdout",
     "output_type": "stream",
     "text": [
      "[1]\n",
      "[1, 1]\n",
      "[1, 2, 1]\n",
      "[1, 3, 3, 1]\n",
      "[1, 4, 6, 4, 1]\n",
      "[1, 5, 10, 10, 5, 1]\n",
      "[1, 6, 15, 20, 15, 6, 1]\n"
     ]
    },
    {
     "data": {
      "text/plain": [
       "[None, None, None, None, None, None, None]"
      ]
     },
     "execution_count": 2,
     "metadata": {},
     "output_type": "execute_result"
    }
   ],
   "source": [
    "Ln = int(input())\n",
    "def pairs (xs):\n",
    "  if 2 > len(xs):\n",
    "    return []\n",
    "  else:\n",
    "    return [xs[0:2]] + pairs(xs[1:])\n",
    "\n",
    "def pascal (n):\n",
    "  def compute (prev):\n",
    "    return [1] + [x + y for (x,y) in pairs(prev)] + [1]\n",
    "    \n",
    "  def aux (m, prev):\n",
    "    if (m > n):\n",
    "      return []\n",
    "    else:\n",
    "      return [prev] + aux(m + 1, compute(prev))\n",
    "  return aux(1, [1])\n",
    "\n",
    "[print(line) for line in pascal(Ln)]"
   ]
  },
  {
   "cell_type": "code",
   "execution_count": 8,
   "metadata": {},
   "outputs": [
    {
     "name": "stdout",
     "output_type": "stream",
     "text": [
      "False\n"
     ]
    }
   ],
   "source": [
    "a = input()\n",
    "for i in range(1,len(a)):\n",
    "    if (a[i-1] > a[i]):\n",
    "        print('False')\n",
    "        break\n",
    "if len(a) >=2:\n",
    "    print('True')\n",
    "else:\n",
    "    print('False')\n",
    "        \n"
   ]
  }
 ],
 "metadata": {
  "kernelspec": {
   "display_name": "Python 3.10.5 64-bit",
   "language": "python",
   "name": "python3"
  },
  "language_info": {
   "codemirror_mode": {
    "name": "ipython",
    "version": 3
   },
   "file_extension": ".py",
   "mimetype": "text/x-python",
   "name": "python",
   "nbconvert_exporter": "python",
   "pygments_lexer": "ipython3",
   "version": "3.10.5"
  },
  "orig_nbformat": 4,
  "vscode": {
   "interpreter": {
    "hash": "369f2c481f4da34e4445cda3fffd2e751bd1c4d706f27375911949ba6bb62e1c"
   }
  }
 },
 "nbformat": 4,
 "nbformat_minor": 2
}
